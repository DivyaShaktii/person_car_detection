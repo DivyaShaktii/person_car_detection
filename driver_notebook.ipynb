{
 "cells": [
  {
   "cell_type": "code",
   "execution_count": 2,
   "metadata": {},
   "outputs": [],
   "source": [
    "import json\n",
    "import pandas as pd"
   ]
  },
  {
   "cell_type": "markdown",
   "metadata": {},
   "source": [
    "## Labels preparation (.txt files for each images)"
   ]
  },
  {
   "cell_type": "code",
   "execution_count": 14,
   "metadata": {},
   "outputs": [],
   "source": [
    "df.to_csv(\"annotation.csv\", index=False)"
   ]
  },
  {
   "cell_type": "code",
   "execution_count": 15,
   "metadata": {},
   "outputs": [
    {
     "data": {
      "text/html": [
       "<div>\n",
       "<style scoped>\n",
       "    .dataframe tbody tr th:only-of-type {\n",
       "        vertical-align: middle;\n",
       "    }\n",
       "\n",
       "    .dataframe tbody tr th {\n",
       "        vertical-align: top;\n",
       "    }\n",
       "\n",
       "    .dataframe thead th {\n",
       "        text-align: right;\n",
       "    }\n",
       "</style>\n",
       "<table border=\"1\" class=\"dataframe\">\n",
       "  <thead>\n",
       "    <tr style=\"text-align: right;\">\n",
       "      <th></th>\n",
       "      <th>id</th>\n",
       "      <th>image_id</th>\n",
       "      <th>x1</th>\n",
       "      <th>y1</th>\n",
       "      <th>w</th>\n",
       "      <th>h</th>\n",
       "      <th>label</th>\n",
       "      <th>img_name</th>\n",
       "      <th>img_width</th>\n",
       "      <th>img_height</th>\n",
       "    </tr>\n",
       "  </thead>\n",
       "  <tbody>\n",
       "    <tr>\n",
       "      <th>0</th>\n",
       "      <td>0</td>\n",
       "      <td>0</td>\n",
       "      <td>846</td>\n",
       "      <td>145</td>\n",
       "      <td>146</td>\n",
       "      <td>477</td>\n",
       "      <td>0</td>\n",
       "      <td>image_000000001.jpg</td>\n",
       "      <td>1024.0</td>\n",
       "      <td>768.0</td>\n",
       "    </tr>\n",
       "    <tr>\n",
       "      <th>1</th>\n",
       "      <td>1</td>\n",
       "      <td>0</td>\n",
       "      <td>848</td>\n",
       "      <td>216</td>\n",
       "      <td>175</td>\n",
       "      <td>551</td>\n",
       "      <td>0</td>\n",
       "      <td>image_000000001.jpg</td>\n",
       "      <td>1024.0</td>\n",
       "      <td>768.0</td>\n",
       "    </tr>\n",
       "  </tbody>\n",
       "</table>\n",
       "</div>"
      ],
      "text/plain": [
       "   id  image_id   x1   y1    w    h  label             img_name  img_width  \\\n",
       "0   0         0  846  145  146  477      0  image_000000001.jpg     1024.0   \n",
       "1   1         0  848  216  175  551      0  image_000000001.jpg     1024.0   \n",
       "\n",
       "   img_height  \n",
       "0       768.0  \n",
       "1       768.0  "
      ]
     },
     "execution_count": 15,
     "metadata": {},
     "output_type": "execute_result"
    }
   ],
   "source": [
    "df = pd.read_csv(\"annotation.csv\")\n",
    "df.head(2)"
   ]
  },
  {
   "cell_type": "code",
   "execution_count": 20,
   "metadata": {},
   "outputs": [],
   "source": [
    "for index,row in df.iterrows():\n",
    "    image_name = row.img_name[:-4]\n",
    "    H = row.img_height\n",
    "    W = row.img_width\n",
    "    h = row.h\n",
    "    w = row.w\n",
    "    x1, y1 = row.x1, row.y1\n",
    "    label = row.label\n",
    "    centre = (x1+0.5*w, y1+0.5*h)\n",
    "    norm_centre = ((x1+0.5*w)/W, (y1+0.5*h)/H)\n",
    "    annotation =  f\"{label} {round(norm_centre[0],2)} {round(norm_centre[1],2)} {round(w/W, 2)} {round(h/H, 2)}\"  \n",
    "    try:\n",
    "        txt_file = open(f\"labels/{image_name}.txt\",\"r\")\n",
    "        txt_file.close()\n",
    "        txt_file = open(f\"labels/{image_name}.txt\",\"a\")\n",
    "        txt_file.write(f\"\\n{annotation}\")\n",
    "        txt_file.close()\n",
    "    except:\n",
    "        txt_file = open(f\"labels/{image_name}.txt\",\"a\")\n",
    "        txt_file.write(f\"{annotation}\")\n",
    "        txt_file.close()"
   ]
  },
  {
   "cell_type": "markdown",
   "metadata": {},
   "source": [
    "## Training"
   ]
  },
  {
   "cell_type": "code",
   "execution_count": 1,
   "metadata": {},
   "outputs": [],
   "source": [
    "import os\n",
    "os.chdir(\"yolov3/\")\n",
    "print(os.getcwd())"
   ]
  },
  {
   "cell_type": "code",
   "execution_count": null,
   "metadata": {},
   "outputs": [],
   "source": [
    "!python train.py --img 640 --batch 8 --epochs 2 --data custom_data.yaml --weights yolov3.pt"
   ]
  },
  {
   "cell_type": "markdown",
   "metadata": {},
   "source": [
    "# Inferencing"
   ]
  },
  {
   "cell_type": "code",
   "execution_count": 2,
   "metadata": {},
   "outputs": [],
   "source": [
    "!python detect.py --weights runs/train/exp12/weights/best.pt --img 640 --conf 0.25 --source data/images"
   ]
  },
  {
   "cell_type": "code",
   "execution_count": null,
   "metadata": {},
   "outputs": [],
   "source": []
  }
 ],
 "metadata": {
  "kernelspec": {
   "display_name": "Python 3",
   "language": "python",
   "name": "python3"
  },
  "language_info": {
   "codemirror_mode": {
    "name": "ipython",
    "version": 3
   },
   "file_extension": ".py",
   "mimetype": "text/x-python",
   "name": "python",
   "nbconvert_exporter": "python",
   "pygments_lexer": "ipython3",
   "version": "3.8.10"
  }
 },
 "nbformat": 4,
 "nbformat_minor": 4
}
